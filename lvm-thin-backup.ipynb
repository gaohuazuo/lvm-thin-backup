{
 "cells": [
  {
   "cell_type": "code",
   "execution_count": 3,
   "metadata": {
    "collapsed": true
   },
   "outputs": [],
   "source": [
    "import logging\n",
    "import logging.handlers\n",
    "import argparse\n",
    "import subprocess\n",
    "import time\n",
    "import re\n",
    "import traceback\n",
    "import os\n",
    "import errno"
   ]
  },
  {
   "cell_type": "markdown",
   "metadata": {},
   "source": [
    "## Constants"
   ]
  },
  {
   "cell_type": "code",
   "execution_count": 2,
   "metadata": {
    "collapsed": true
   },
   "outputs": [],
   "source": [
    "TIME_FORMAT = '%Y-%m-%d_%Hh-%Mm-%Ss'\n",
    "BACKUP_SUFFIX = 'BACKUP'\n",
    "SYSLOG_ADDRESS =  '/dev/log'\n",
    "LOGGING_FMT = '%(module)s[%(process)d]:%(levelname)s:%(message)s'\n",
    "UNIQUE_ID = 'lvm-thin-backup-7e2ce2e4-7274-4a5b-9fda-cdc8e052cfd4'\n",
    "TMP_DIR = '/tmp'"
   ]
  },
  {
   "cell_type": "markdown",
   "metadata": {},
   "source": [
    "## Exceptions"
   ]
  },
  {
   "cell_type": "code",
   "execution_count": 3,
   "metadata": {
    "collapsed": true
   },
   "outputs": [],
   "source": [
    "class CouldBeBugError(RuntimeError):\n",
    "    pass"
   ]
  },
  {
   "cell_type": "code",
   "execution_count": 47,
   "metadata": {
    "collapsed": true
   },
   "outputs": [],
   "source": [
    "class NoRemovableBackupError(RuntimeError):\n",
    "    pass"
   ]
  },
  {
   "cell_type": "markdown",
   "metadata": {},
   "source": [
    "## Helpers"
   ]
  },
  {
   "cell_type": "code",
   "execution_count": 5,
   "metadata": {
    "collapsed": true
   },
   "outputs": [],
   "source": [
    "def check_output(cmd, **kwargs):\n",
    "    '''\n",
    "    Almost the same as subprocess.check_output(), except for some\n",
    "    default args. \n",
    "    \n",
    "    Return:\n",
    "    (stdout, stderr)\n",
    "    '''\n",
    "    kwargs_ = {\n",
    "        'stdout': subprocess.PIPE,\n",
    "        'stderr': subprocess.PIPE,\n",
    "        'universal_newlines': True\n",
    "    }\n",
    "    kwargs_.update(kwargs)\n",
    "    p = subprocess.Popen(cmd, **kwargs_)\n",
    "    return p.communicate()"
   ]
  },
  {
   "cell_type": "code",
   "execution_count": 6,
   "metadata": {
    "collapsed": false
   },
   "outputs": [],
   "source": [
    "def get_backup_name(lvname):\n",
    "    return '%s_%s_%s_%s' % (lvname, BACKUP_SUFFIX, time.strftime(TIME_FORMAT), time.time())"
   ]
  },
  {
   "cell_type": "code",
   "execution_count": 7,
   "metadata": {
    "collapsed": true
   },
   "outputs": [],
   "source": [
    "def parse_backup_name(snapshot_name):\n",
    "    match = re.search('^(.*)_([0-9]+(?:\\\\.[0-9]+)?)$', snapshot_name)\n",
    "    if not match:\n",
    "        return\n",
    "    pos = match.group(1).rfind('_%s_' % BACKUP_SUFFIX)\n",
    "    if pos == -1:\n",
    "        return\n",
    "    origin = match.group(1)[:pos]\n",
    "    if not check_name(origin):\n",
    "        return\n",
    "    try:\n",
    "        time_ = time.strptime(match.group(1)[pos + len(BACKUP_SUFFIX) + 2:],\n",
    "                              TIME_FORMAT)\n",
    "    except ValueError:\n",
    "        return\n",
    "    return float(match.group(2))"
   ]
  },
  {
   "cell_type": "code",
   "execution_count": 8,
   "metadata": {
    "collapsed": true
   },
   "outputs": [],
   "source": [
    "def check_name(name):\n",
    "    '''Check whether name is a valid lvm lv or vg name'''\n",
    "    return re.match(r'^[a-zA-Z0-9+_.][a-zA-Z0-9+_.\\-]*$', name) is not None"
   ]
  },
  {
   "cell_type": "code",
   "execution_count": 9,
   "metadata": {
    "collapsed": true
   },
   "outputs": [],
   "source": [
    "def lvs(fields):\n",
    "    '''\n",
    "    The lvs command.\n",
    "    \n",
    "    Note:\n",
    "    The returned fields should contain no escaped character\n",
    "    nor the following:\n",
    "        ' \" \\\\n\n",
    "    If the behaviour of lvs changes, this function has to be\n",
    "    changed accordingly.\n",
    "    '''\n",
    "    if isinstance(fields, str):\n",
    "        fields = [fields]\n",
    "    fields.append('lv_fullname')\n",
    "    fields_map = {i.replace('_', ''): i for i in fields}\n",
    "    cmd = ['lvs', '--noheadings', '--nameprefixes', '-o', ','.join(fields)]\n",
    "    stdout, stderr = check_output(cmd)\n",
    "    if stderr:\n",
    "        logging.warning('lvs wrote something to stderr:\\n%s', stderr)\n",
    "    result = {}\n",
    "    for line in stdout.splitlines():\n",
    "        matches = re.findall('''(LVM2_([A-Z_]+)=('[^']*'|\"[^\"]*\"))''', line)\n",
    "        if re.fullmatch('\\\\s*' + '\\\\s+'.join(i[0] for i in matches) + '\\\\s*',\n",
    "                        line) is None:\n",
    "            logging.critical('Parse of lvs output failed: %s', line)\n",
    "            raise CouldBeBugError\n",
    "        line_result = {fields_map[i[1].lower().replace('_', '')]:\n",
    "                       i[2][1:-1] for i in matches}\n",
    "        if set(line_result.keys()) != set(fields):\n",
    "            logging.critical('lvs did not return all fields queried, '\n",
    "                             'which is unexpected.')\n",
    "            raise CouldBeBugError\n",
    "        result[line_result.pop('lv_fullname')] = line_result\n",
    "    return result"
   ]
  },
  {
   "cell_type": "code",
   "execution_count": 10,
   "metadata": {
    "collapsed": true
   },
   "outputs": [],
   "source": [
    "def get_data_usage(pool_fullname):\n",
    "    lvs_output"
   ]
  },
  {
   "cell_type": "code",
   "execution_count": 11,
   "metadata": {
    "collapsed": true
   },
   "outputs": [],
   "source": [
    "def backup(targets):\n",
    "    if isinstance(targets, str):\n",
    "        targets = [targets]\n",
    "    lvs_output = lvs(['lv_name', 'vg_name', 'lv_attr'])\n",
    "    failed = False\n",
    "    for lv_fullname in targets:\n",
    "        if lv_fullname not in lvs_output:\n",
    "            logging.error('LV not found: %s', lv_fullname)\n",
    "            failed = True\n",
    "        elif lvs_output[lv_fullname]['lv_attr'][0] != 'V':\n",
    "            logging.error('LV is not thin volume: %s', lv_fullname)\n",
    "            failed = True\n",
    "    if failed:\n",
    "        logging.error('Backup could not start because not all targets are valid')\n",
    "        return\n",
    "    for lv_fullname in targets:\n",
    "        vg_name = lvs_output[lv_fullname]['vg_name']\n",
    "        lv_shortname = lvs_output[lv_fullname]['lv_name']\n",
    "        backup_name = get_backup_name(lv_shortname)\n",
    "        backup_fullname = '%s/%s' % (vg_name, backup_name)\n",
    "        cmd = ['lvcreate', '-s', lv_fullname, '-n', backup_name, '-y']\n",
    "        logging.info('Creating snapshot: %s' % backup_name)\n",
    "        stdout, stderr = check_output(cmd)\n",
    "        if stderr:\n",
    "            logging.warning('lvcreate wrote something to stderr:\\n%s', stderr)\n",
    "        lvs_output_ = lvs('origin')\n",
    "        if (backup_fullname not in lvs_output_ or\n",
    "                lvs_output_[backup_fullname]['origin'] != lv_shortname):\n",
    "            logging.error('Failed to create snapshot %s for %s',\n",
    "                          backup_name, lv_fullname)"
   ]
  },
  {
   "cell_type": "code",
   "execution_count": 48,
   "metadata": {
    "collapsed": true
   },
   "outputs": [],
   "source": [
    "def release_space(pool_fullname, min_backup):\n",
    "    '''\n",
    "    Remove the oldest backup within the thin pool, whose removal does not\n",
    "    break the minimum number of backup requirement.\n",
    "    '''\n",
    "    lvs_output = lvs(['pool_lv', 'vg_name', 'lv_name', 'origin'])\n",
    "\n",
    "    # Collect all backups in the thin pool.\n",
    "    backups = []\n",
    "    counts = {}\n",
    "    for lv_fullname, fields in lvs_output.items():\n",
    "        if '%s/%s' % (fields['vg_name'], fields['pool_lv']) != pool_fullname:\n",
    "            continue\n",
    "        timestamp = parse_backup_name(fields['lv_name'])\n",
    "        if not timestamp:\n",
    "            continue\n",
    "        backups.append((timestamp, lv_fullname))\n",
    "        origin = fields['origin']\n",
    "        if origin not in counts:\n",
    "            counts[origin] = 1\n",
    "        else:\n",
    "            counts[origin] += 1\n",
    "\n",
    "    # Remove the oldest removable backup\n",
    "    backups.sort()\n",
    "    for timestamp, lv_fullname in backups:\n",
    "        if counts[lvs_output[lv_fullname]['origin']] <= min_backup:\n",
    "            continue\n",
    "        cmd = ['lvremove', lv_fullname, '-y']\n",
    "        stdout, stderr = check_output(cmd)\n",
    "        if stderr:\n",
    "            logging.warning('lvremove wrote something to stderr:\\n%s',\n",
    "                            stderr)\n",
    "        if lv_fullname in lvs([]):\n",
    "            logging.error('Failed to remove snapshot: %s', lv_fullname)\n",
    "        break\n",
    "    else:\n",
    "        logging.error('No backup can be removed.')\n",
    "        raise NoRemovableBackupError"
   ]
  },
  {
   "cell_type": "code",
   "execution_count": 13,
   "metadata": {
    "collapsed": true
   },
   "outputs": [],
   "source": [
    "def watch(pool_fullname, limit=0.9, interval=60, min_backup=1):\n",
    "    limit = float(limit)\n",
    "    interval = float(interval)\n",
    "    min_backup = int(min_backup)\n",
    "    if interval <= 0:\n",
    "        logging.error('Interval is smaller than 0.')\n",
    "        return\n",
    "    if limit >= 1 or limit <= 0:\n",
    "        logging.error('Limit is not between 0 and 1.')\n",
    "        return\n",
    "    if min_backup < 0:\n",
    "        logging.error('Minimum backup to keep is set to lower than 0: %s',\n",
    "                      min_backup)\n",
    "        return\n",
    "    while True:\n",
    "        lvs_output = lvs(['data_percent', 'lv_attr'])\n",
    "        if pool_fullname not in lvs_output:\n",
    "            logging.error('Pool not found: %s', pool_fullname)\n",
    "            return\n",
    "        fields = lvs_output[pool_fullname]\n",
    "        if fields['lv_attr'][0] != 't':\n",
    "            logging.error('Not a thin pool: %s', pool_fullname)\n",
    "            return\n",
    "        if float(fields['data_percent']) / 100 > limit:\n",
    "            try:\n",
    "                release_space(pool_fullname, min_backup)\n",
    "            except NoRemovableBackupError:\n",
    "                time.sleep(interval)\n",
    "        else:\n",
    "            time.sleep(interval)"
   ]
  },
  {
   "cell_type": "markdown",
   "metadata": {},
   "source": [
    "## Command line interface"
   ]
  },
  {
   "cell_type": "code",
   "execution_count": 41,
   "metadata": {
    "collapsed": false
   },
   "outputs": [],
   "source": [
    "def setup_logging(args):\n",
    "    kwargs = {}\n",
    "    kwargs['format'] = LOGGING_FMT\n",
    "    if not args.v:\n",
    "        kwargs['level'] = logging.ERROR\n",
    "    elif args.v == 1:\n",
    "        kwargs['level'] = logging.INFO\n",
    "    elif args.v >= 2:\n",
    "        kwargs['level'] = logging.DEBUG\n",
    "    else:\n",
    "        raise RuntimeError\n",
    "    if args.syslog:\n",
    "        kwargs['handlers'] = [logging.handlers.SysLogHandler(SYSLOG_ADDRESS)]\n",
    "    elif args.logto:\n",
    "        kwargs['filename'] = args.logto\n",
    "    root_logger = logging.getLogger('root')\n",
    "    while root_logger.handlers:\n",
    "        root_logger.removeHandler(root_logger.handlers[0])\n",
    "    logging.basicConfig(**kwargs)"
   ]
  },
  {
   "cell_type": "code",
   "execution_count": 25,
   "metadata": {
    "collapsed": true
   },
   "outputs": [],
   "source": [
    "def watch_handler(args):\n",
    "    setup_logging(args)\n",
    "    kwargs = {}\n",
    "    kwargs['pool_fullname'] = args.thin_pool\n",
    "    if args.limit:\n",
    "        kwargs['limit'] = args.limit\n",
    "    if args.check_interval:\n",
    "        kwargs['interval'] = args.check_interval\n",
    "    if args.min_backup is not None:\n",
    "        kwargs['min_backup'] = args.min_backup\n",
    "    if len(args.thin_pool.split('/')) == 2:\n",
    "        escaped_pool_name = args.thin_pool.replace('-', '--').replace('/', '-')\n",
    "        if check_name(escaped_pool_name):\n",
    "            pid_file_path = os.path.join(\n",
    "                TMP_DIR, '%s.%s.pid' % (UNIQUE_ID, escaped_pool_name)\n",
    "            )\n",
    "            try:\n",
    "                pid_file = open(pid_file_path, 'x')\n",
    "            except FileExistsError:\n",
    "                logging.error('pid file exists: %s', pid_file_path)\n",
    "                return\n",
    "            try:\n",
    "                with pid_file:\n",
    "                    pid_file.write(str(os.getpid()))\n",
    "                watch(**kwargs)\n",
    "            finally:\n",
    "                os.remove(pid_file_path)\n",
    "            return\n",
    "    logging.error('Invalid volume name: %s', args.thin_pool)"
   ]
  },
  {
   "cell_type": "code",
   "execution_count": 27,
   "metadata": {
    "collapsed": true
   },
   "outputs": [],
   "source": [
    "def backup_handler(args):\n",
    "    setup_logging(args)\n",
    "    if args.vg:\n",
    "        backup(['%s/%s' % (args.vg, lv) for lv in args.lv])\n",
    "    else:\n",
    "        backup(args.lv)"
   ]
  },
  {
   "cell_type": "code",
   "execution_count": 34,
   "metadata": {
    "collapsed": false
   },
   "outputs": [],
   "source": [
    "def main():\n",
    "    parser = argparse.ArgumentParser()\n",
    "    subparsers = parser.add_subparsers()\n",
    "\n",
    "    # Common command line options\n",
    "    common_parser = argparse.ArgumentParser(add_help=False)\n",
    "    # Logging\n",
    "    log_options = common_parser.add_mutually_exclusive_group()\n",
    "    log_options.add_argument('--logto')\n",
    "    log_options.add_argument('--syslog', action='store_true')\n",
    "    # Verbosity\n",
    "    common_parser.add_argument('-v', action='count')\n",
    "\n",
    "    # Subcommand `watch`\n",
    "    parser_watch = subparsers.add_parser('watch', parents=[common_parser])\n",
    "    parser_watch.add_argument('thin_pool')\n",
    "    parser_watch.add_argument('--limit', '-l', type=float)\n",
    "    parser_watch.add_argument('--check-interval', '-i', type=float)\n",
    "    parser_watch.add_argument('--min-backup', '-m', type=int)\n",
    "    parser_watch.set_defaults(func=watch_handler)\n",
    "\n",
    "    # Subcommand `backup`\n",
    "    parser_backup = subparsers.add_parser('backup', parents=[common_parser])\n",
    "    parser_backup.add_argument('--vg')\n",
    "    parser_backup.add_argument('lv', nargs='+')\n",
    "    parser_backup.set_defaults(func=backup_handler)\n",
    "\n",
    "    # Call appropriate handler\n",
    "    args = parser.parse_args()\n",
    "    if hasattr(args, 'func'):\n",
    "        args.func(args)"
   ]
  },
  {
   "cell_type": "code",
   "execution_count": 45,
   "metadata": {
    "collapsed": false,
    "scrolled": true
   },
   "outputs": [
    {
     "name": "stderr",
     "output_type": "stream",
     "text": [
      "usage: __main__.py [-h] {watch,backup} ...\n",
      "__main__.py: error: invalid choice: '/run/user/1000/jupyter/kernel-ce63c438-6116-4514-878e-de0650623e51.json' (choose from 'watch', 'backup')\n"
     ]
    }
   ],
   "source": [
    "if __name__ == '__main__':\n",
    "    try:\n",
    "        main()\n",
    "    except Exception:\n",
    "        logging.basicConfig(format=LOGGING_FMT)\n",
    "        logging.critical('\\n%s', traceback.format_exc())"
   ]
  }
 ],
 "metadata": {
  "kernelspec": {
   "display_name": "Python 3",
   "language": "python",
   "name": "python3"
  },
  "language_info": {
   "codemirror_mode": {
    "name": "ipython",
    "version": 3
   },
   "file_extension": ".py",
   "mimetype": "text/x-python",
   "name": "python",
   "nbconvert_exporter": "python",
   "pygments_lexer": "ipython3",
   "version": "3.5.1+"
  }
 },
 "nbformat": 4,
 "nbformat_minor": 0
}
